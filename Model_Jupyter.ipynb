{
 "cells": [
  {
   "cell_type": "code",
   "execution_count": 590,
   "id": "04079ef1",
   "metadata": {},
   "outputs": [],
   "source": [
    "import numpy as np\n",
    "import pandas as pd\n",
    "import matplotlib.pyplot as plt\n",
    "import seaborn as sns\n",
    "import warnings\n",
    "warnings.filterwarnings('ignore')"
   ]
  },
  {
   "cell_type": "code",
   "execution_count": 591,
   "id": "266bb520",
   "metadata": {},
   "outputs": [
    {
     "data": {
      "text/html": [
       "<div>\n",
       "<style scoped>\n",
       "    .dataframe tbody tr th:only-of-type {\n",
       "        vertical-align: middle;\n",
       "    }\n",
       "\n",
       "    .dataframe tbody tr th {\n",
       "        vertical-align: top;\n",
       "    }\n",
       "\n",
       "    .dataframe thead th {\n",
       "        text-align: right;\n",
       "    }\n",
       "</style>\n",
       "<table border=\"1\" class=\"dataframe\">\n",
       "  <thead>\n",
       "    <tr style=\"text-align: right;\">\n",
       "      <th></th>\n",
       "      <th>Gender</th>\n",
       "      <th>Age</th>\n",
       "      <th>Hemoglobin</th>\n",
       "      <th>RBC</th>\n",
       "      <th>WBC</th>\n",
       "      <th>AST (aspartate aminotransferase)</th>\n",
       "      <th>ALT (alanine aminotransferase)</th>\n",
       "      <th>Cholestrol</th>\n",
       "      <th>Spirometry</th>\n",
       "      <th>Creatinine</th>\n",
       "      <th>Glucose</th>\n",
       "      <th>Lipase</th>\n",
       "      <th>Troponin</th>\n",
       "      <th>Disease</th>\n",
       "    </tr>\n",
       "  </thead>\n",
       "  <tbody>\n",
       "    <tr>\n",
       "      <th>0</th>\n",
       "      <td>Male</td>\n",
       "      <td>59</td>\n",
       "      <td>6</td>\n",
       "      <td>1.20</td>\n",
       "      <td>6220</td>\n",
       "      <td>26</td>\n",
       "      <td>22</td>\n",
       "      <td>227</td>\n",
       "      <td>4.75</td>\n",
       "      <td>0.90</td>\n",
       "      <td>96</td>\n",
       "      <td>97</td>\n",
       "      <td>0.02</td>\n",
       "      <td>Anemia</td>\n",
       "    </tr>\n",
       "    <tr>\n",
       "      <th>1</th>\n",
       "      <td>Male</td>\n",
       "      <td>71</td>\n",
       "      <td>40</td>\n",
       "      <td>20.00</td>\n",
       "      <td>6636</td>\n",
       "      <td>18</td>\n",
       "      <td>27</td>\n",
       "      <td>220</td>\n",
       "      <td>3.93</td>\n",
       "      <td>1.03</td>\n",
       "      <td>94</td>\n",
       "      <td>82</td>\n",
       "      <td>0.04</td>\n",
       "      <td>Asthma</td>\n",
       "    </tr>\n",
       "    <tr>\n",
       "      <th>2</th>\n",
       "      <td>Female</td>\n",
       "      <td>22</td>\n",
       "      <td>14</td>\n",
       "      <td>3.55</td>\n",
       "      <td>18314</td>\n",
       "      <td>21</td>\n",
       "      <td>30</td>\n",
       "      <td>224</td>\n",
       "      <td>3.93</td>\n",
       "      <td>1.17</td>\n",
       "      <td>70</td>\n",
       "      <td>101</td>\n",
       "      <td>0.00</td>\n",
       "      <td>Infection</td>\n",
       "    </tr>\n",
       "    <tr>\n",
       "      <th>3</th>\n",
       "      <td>Male</td>\n",
       "      <td>53</td>\n",
       "      <td>16</td>\n",
       "      <td>4.95</td>\n",
       "      <td>9931</td>\n",
       "      <td>45</td>\n",
       "      <td>62</td>\n",
       "      <td>205</td>\n",
       "      <td>3.58</td>\n",
       "      <td>0.81</td>\n",
       "      <td>82</td>\n",
       "      <td>108</td>\n",
       "      <td>0.03</td>\n",
       "      <td>Liver Disease</td>\n",
       "    </tr>\n",
       "    <tr>\n",
       "      <th>4</th>\n",
       "      <td>Male</td>\n",
       "      <td>77</td>\n",
       "      <td>16</td>\n",
       "      <td>3.96</td>\n",
       "      <td>7088</td>\n",
       "      <td>29</td>\n",
       "      <td>25</td>\n",
       "      <td>217</td>\n",
       "      <td>3.20</td>\n",
       "      <td>1.70</td>\n",
       "      <td>97</td>\n",
       "      <td>107</td>\n",
       "      <td>0.04</td>\n",
       "      <td>Liver Disease</td>\n",
       "    </tr>\n",
       "  </tbody>\n",
       "</table>\n",
       "</div>"
      ],
      "text/plain": [
       "   Gender  Age  Hemoglobin    RBC    WBC  AST (aspartate aminotransferase)  \\\n",
       "0    Male   59           6   1.20   6220                                26   \n",
       "1    Male   71          40  20.00   6636                                18   \n",
       "2  Female   22          14   3.55  18314                                21   \n",
       "3    Male   53          16   4.95   9931                                45   \n",
       "4    Male   77          16   3.96   7088                                29   \n",
       "\n",
       "   ALT (alanine aminotransferase)  Cholestrol  Spirometry  Creatinine  \\\n",
       "0                              22         227        4.75        0.90   \n",
       "1                              27         220        3.93        1.03   \n",
       "2                              30         224        3.93        1.17   \n",
       "3                              62         205        3.58        0.81   \n",
       "4                              25         217        3.20        1.70   \n",
       "\n",
       "   Glucose  Lipase  Troponin       Disease   \n",
       "0       96      97      0.02         Anemia  \n",
       "1       94      82      0.04         Asthma  \n",
       "2       70     101      0.00      Infection  \n",
       "3       82     108      0.03  Liver Disease  \n",
       "4       97     107      0.04  Liver Disease  "
      ]
     },
     "execution_count": 591,
     "metadata": {},
     "output_type": "execute_result"
    }
   ],
   "source": [
    "df = pd.read_csv('laboratory_data.csv')\n",
    "df.head()"
   ]
  },
  {
   "cell_type": "code",
   "execution_count": 592,
   "id": "24dc8134",
   "metadata": {},
   "outputs": [
    {
     "data": {
      "text/plain": [
       "0"
      ]
     },
     "execution_count": 592,
     "metadata": {},
     "output_type": "execute_result"
    }
   ],
   "source": [
    "df.duplicated().sum()"
   ]
  },
  {
   "cell_type": "code",
   "execution_count": 593,
   "id": "8a3767a0",
   "metadata": {},
   "outputs": [
    {
     "data": {
      "text/plain": [
       "Gender                               object\n",
       "Age                                   int64\n",
       "Hemoglobin                            int64\n",
       "RBC                                 float64\n",
       "WBC                                   int64\n",
       "AST (aspartate aminotransferase)      int64\n",
       "ALT (alanine aminotransferase)        int64\n",
       "Cholestrol                            int64\n",
       "Spirometry                          float64\n",
       "Creatinine                          float64\n",
       "Glucose                               int64\n",
       "Lipase                                int64\n",
       "Troponin                            float64\n",
       "Disease                              object\n",
       "dtype: object"
      ]
     },
     "execution_count": 593,
     "metadata": {},
     "output_type": "execute_result"
    }
   ],
   "source": [
    "df.dtypes"
   ]
  },
  {
   "cell_type": "code",
   "execution_count": 594,
   "id": "f3128d90",
   "metadata": {},
   "outputs": [
    {
     "name": "stdout",
     "output_type": "stream",
     "text": [
      "<class 'pandas.core.frame.DataFrame'>\n",
      "RangeIndex: 12009 entries, 0 to 12008\n",
      "Data columns (total 14 columns):\n",
      " #   Column                            Non-Null Count  Dtype  \n",
      "---  ------                            --------------  -----  \n",
      " 0   Gender                            12009 non-null  object \n",
      " 1   Age                               12009 non-null  int64  \n",
      " 2   Hemoglobin                        12009 non-null  int64  \n",
      " 3   RBC                               12009 non-null  float64\n",
      " 4   WBC                               12009 non-null  int64  \n",
      " 5   AST (aspartate aminotransferase)  12009 non-null  int64  \n",
      " 6   ALT (alanine aminotransferase)    12009 non-null  int64  \n",
      " 7   Cholestrol                        12009 non-null  int64  \n",
      " 8   Spirometry                        12009 non-null  float64\n",
      " 9   Creatinine                        12009 non-null  float64\n",
      " 10  Glucose                           12009 non-null  int64  \n",
      " 11  Lipase                            12009 non-null  int64  \n",
      " 12  Troponin                          12009 non-null  float64\n",
      " 13  Disease                           12009 non-null  object \n",
      "dtypes: float64(4), int64(8), object(2)\n",
      "memory usage: 1.3+ MB\n"
     ]
    }
   ],
   "source": [
    "df.info()"
   ]
  },
  {
   "cell_type": "code",
   "execution_count": 595,
   "id": "6dbd8665",
   "metadata": {},
   "outputs": [
    {
     "data": {
      "text/html": [
       "<div>\n",
       "<style scoped>\n",
       "    .dataframe tbody tr th:only-of-type {\n",
       "        vertical-align: middle;\n",
       "    }\n",
       "\n",
       "    .dataframe tbody tr th {\n",
       "        vertical-align: top;\n",
       "    }\n",
       "\n",
       "    .dataframe thead th {\n",
       "        text-align: right;\n",
       "    }\n",
       "</style>\n",
       "<table border=\"1\" class=\"dataframe\">\n",
       "  <thead>\n",
       "    <tr style=\"text-align: right;\">\n",
       "      <th></th>\n",
       "      <th>Age</th>\n",
       "      <th>Hemoglobin</th>\n",
       "      <th>RBC</th>\n",
       "      <th>WBC</th>\n",
       "      <th>AST (aspartate aminotransferase)</th>\n",
       "      <th>ALT (alanine aminotransferase)</th>\n",
       "      <th>Cholestrol</th>\n",
       "      <th>Spirometry</th>\n",
       "      <th>Creatinine</th>\n",
       "      <th>Glucose</th>\n",
       "      <th>Lipase</th>\n",
       "      <th>Troponin</th>\n",
       "    </tr>\n",
       "  </thead>\n",
       "  <tbody>\n",
       "    <tr>\n",
       "      <th>count</th>\n",
       "      <td>12009.000000</td>\n",
       "      <td>12009.000000</td>\n",
       "      <td>12009.000000</td>\n",
       "      <td>12009.000000</td>\n",
       "      <td>12009.000000</td>\n",
       "      <td>12009.000000</td>\n",
       "      <td>12009.000000</td>\n",
       "      <td>12009.000000</td>\n",
       "      <td>12009.000000</td>\n",
       "      <td>12009.000000</td>\n",
       "      <td>12009.000000</td>\n",
       "      <td>12009.000000</td>\n",
       "    </tr>\n",
       "    <tr>\n",
       "      <th>mean</th>\n",
       "      <td>54.415438</td>\n",
       "      <td>11.988342</td>\n",
       "      <td>3.421939</td>\n",
       "      <td>9154.022317</td>\n",
       "      <td>24.613457</td>\n",
       "      <td>31.168873</td>\n",
       "      <td>217.975685</td>\n",
       "      <td>3.798141</td>\n",
       "      <td>1.099124</td>\n",
       "      <td>90.801815</td>\n",
       "      <td>101.816554</td>\n",
       "      <td>0.027720</td>\n",
       "    </tr>\n",
       "    <tr>\n",
       "      <th>std</th>\n",
       "      <td>21.160408</td>\n",
       "      <td>4.681409</td>\n",
       "      <td>1.925999</td>\n",
       "      <td>3922.574987</td>\n",
       "      <td>8.150145</td>\n",
       "      <td>11.565622</td>\n",
       "      <td>13.956727</td>\n",
       "      <td>0.887210</td>\n",
       "      <td>0.295349</td>\n",
       "      <td>18.361879</td>\n",
       "      <td>27.901340</td>\n",
       "      <td>0.023478</td>\n",
       "    </tr>\n",
       "    <tr>\n",
       "      <th>min</th>\n",
       "      <td>18.000000</td>\n",
       "      <td>2.000000</td>\n",
       "      <td>0.110000</td>\n",
       "      <td>6005.000000</td>\n",
       "      <td>15.000000</td>\n",
       "      <td>20.000000</td>\n",
       "      <td>200.000000</td>\n",
       "      <td>1.010000</td>\n",
       "      <td>0.800000</td>\n",
       "      <td>70.000000</td>\n",
       "      <td>70.000000</td>\n",
       "      <td>0.000000</td>\n",
       "    </tr>\n",
       "    <tr>\n",
       "      <th>25%</th>\n",
       "      <td>36.000000</td>\n",
       "      <td>6.000000</td>\n",
       "      <td>1.120000</td>\n",
       "      <td>7061.000000</td>\n",
       "      <td>19.000000</td>\n",
       "      <td>24.000000</td>\n",
       "      <td>208.000000</td>\n",
       "      <td>3.390000</td>\n",
       "      <td>0.910000</td>\n",
       "      <td>78.000000</td>\n",
       "      <td>83.000000</td>\n",
       "      <td>0.010000</td>\n",
       "    </tr>\n",
       "    <tr>\n",
       "      <th>50%</th>\n",
       "      <td>55.000000</td>\n",
       "      <td>14.000000</td>\n",
       "      <td>4.000000</td>\n",
       "      <td>8187.000000</td>\n",
       "      <td>23.000000</td>\n",
       "      <td>28.000000</td>\n",
       "      <td>216.000000</td>\n",
       "      <td>3.940000</td>\n",
       "      <td>1.030000</td>\n",
       "      <td>87.000000</td>\n",
       "      <td>97.000000</td>\n",
       "      <td>0.020000</td>\n",
       "    </tr>\n",
       "    <tr>\n",
       "      <th>75%</th>\n",
       "      <td>73.000000</td>\n",
       "      <td>15.000000</td>\n",
       "      <td>4.530000</td>\n",
       "      <td>9207.000000</td>\n",
       "      <td>28.000000</td>\n",
       "      <td>33.000000</td>\n",
       "      <td>224.000000</td>\n",
       "      <td>4.440000</td>\n",
       "      <td>1.140000</td>\n",
       "      <td>96.000000</td>\n",
       "      <td>110.000000</td>\n",
       "      <td>0.030000</td>\n",
       "    </tr>\n",
       "    <tr>\n",
       "      <th>max</th>\n",
       "      <td>90.000000</td>\n",
       "      <td>50.000000</td>\n",
       "      <td>34.000000</td>\n",
       "      <td>27901.000000</td>\n",
       "      <td>50.000000</td>\n",
       "      <td>70.000000</td>\n",
       "      <td>281.000000</td>\n",
       "      <td>5.010000</td>\n",
       "      <td>2.000000</td>\n",
       "      <td>157.000000</td>\n",
       "      <td>202.000000</td>\n",
       "      <td>0.100000</td>\n",
       "    </tr>\n",
       "  </tbody>\n",
       "</table>\n",
       "</div>"
      ],
      "text/plain": [
       "                Age    Hemoglobin           RBC           WBC  \\\n",
       "count  12009.000000  12009.000000  12009.000000  12009.000000   \n",
       "mean      54.415438     11.988342      3.421939   9154.022317   \n",
       "std       21.160408      4.681409      1.925999   3922.574987   \n",
       "min       18.000000      2.000000      0.110000   6005.000000   \n",
       "25%       36.000000      6.000000      1.120000   7061.000000   \n",
       "50%       55.000000     14.000000      4.000000   8187.000000   \n",
       "75%       73.000000     15.000000      4.530000   9207.000000   \n",
       "max       90.000000     50.000000     34.000000  27901.000000   \n",
       "\n",
       "       AST (aspartate aminotransferase)  ALT (alanine aminotransferase)  \\\n",
       "count                      12009.000000                    12009.000000   \n",
       "mean                          24.613457                       31.168873   \n",
       "std                            8.150145                       11.565622   \n",
       "min                           15.000000                       20.000000   \n",
       "25%                           19.000000                       24.000000   \n",
       "50%                           23.000000                       28.000000   \n",
       "75%                           28.000000                       33.000000   \n",
       "max                           50.000000                       70.000000   \n",
       "\n",
       "         Cholestrol    Spirometry    Creatinine       Glucose        Lipase  \\\n",
       "count  12009.000000  12009.000000  12009.000000  12009.000000  12009.000000   \n",
       "mean     217.975685      3.798141      1.099124     90.801815    101.816554   \n",
       "std       13.956727      0.887210      0.295349     18.361879     27.901340   \n",
       "min      200.000000      1.010000      0.800000     70.000000     70.000000   \n",
       "25%      208.000000      3.390000      0.910000     78.000000     83.000000   \n",
       "50%      216.000000      3.940000      1.030000     87.000000     97.000000   \n",
       "75%      224.000000      4.440000      1.140000     96.000000    110.000000   \n",
       "max      281.000000      5.010000      2.000000    157.000000    202.000000   \n",
       "\n",
       "           Troponin  \n",
       "count  12009.000000  \n",
       "mean       0.027720  \n",
       "std        0.023478  \n",
       "min        0.000000  \n",
       "25%        0.010000  \n",
       "50%        0.020000  \n",
       "75%        0.030000  \n",
       "max        0.100000  "
      ]
     },
     "execution_count": 595,
     "metadata": {},
     "output_type": "execute_result"
    }
   ],
   "source": [
    "df.describe()"
   ]
  },
  {
   "cell_type": "code",
   "execution_count": 596,
   "id": "7b007334",
   "metadata": {},
   "outputs": [
    {
     "data": {
      "text/html": [
       "<div>\n",
       "<style scoped>\n",
       "    .dataframe tbody tr th:only-of-type {\n",
       "        vertical-align: middle;\n",
       "    }\n",
       "\n",
       "    .dataframe tbody tr th {\n",
       "        vertical-align: top;\n",
       "    }\n",
       "\n",
       "    .dataframe thead th {\n",
       "        text-align: right;\n",
       "    }\n",
       "</style>\n",
       "<table border=\"1\" class=\"dataframe\">\n",
       "  <thead>\n",
       "    <tr style=\"text-align: right;\">\n",
       "      <th></th>\n",
       "      <th>Gender</th>\n",
       "      <th>Disease</th>\n",
       "    </tr>\n",
       "  </thead>\n",
       "  <tbody>\n",
       "    <tr>\n",
       "      <th>count</th>\n",
       "      <td>12009</td>\n",
       "      <td>12009</td>\n",
       "    </tr>\n",
       "    <tr>\n",
       "      <th>unique</th>\n",
       "      <td>2</td>\n",
       "      <td>9</td>\n",
       "    </tr>\n",
       "    <tr>\n",
       "      <th>top</th>\n",
       "      <td>Female</td>\n",
       "      <td>Anemia</td>\n",
       "    </tr>\n",
       "    <tr>\n",
       "      <th>freq</th>\n",
       "      <td>6209</td>\n",
       "      <td>2979</td>\n",
       "    </tr>\n",
       "  </tbody>\n",
       "</table>\n",
       "</div>"
      ],
      "text/plain": [
       "        Gender Disease \n",
       "count    12009    12009\n",
       "unique       2        9\n",
       "top     Female   Anemia\n",
       "freq      6209     2979"
      ]
     },
     "execution_count": 596,
     "metadata": {},
     "output_type": "execute_result"
    }
   ],
   "source": [
    "df.describe(include='object')"
   ]
  },
  {
   "cell_type": "code",
   "execution_count": 597,
   "id": "aad73337",
   "metadata": {},
   "outputs": [
    {
     "data": {
      "image/png": "[encoded data removed]",
      "text/plain": [
       "<Figure size 1080x720 with 12 Axes>"
      ]
     },
     "metadata": {
      "needs_background": "light"
     },
     "output_type": "display_data"
    }
   ],
   "source": [
    "df.hist(bins=20, figsize=(15, 10))\n",
    "plt.show()"
   ]
  },
  {
   "cell_type": "code",
   "execution_count": 598,
   "id": "af59c4fb",
   "metadata": {},
   "outputs": [
    {
     "data": {
      "image/png": "[encoded data removed]",
      "text/plain": [
       "<Figure size 1080x432 with 1 Axes>"
      ]
     },
     "metadata": {
      "needs_background": "light"
     },
     "output_type": "display_data"
    }
   ],
   "source": [
    "plt.figure(figsize=(15, 6))\n",
    "sns.countplot(x='Disease ', data=df)\n",
    "plt.show()"
   ]
  },
  {
   "cell_type": "code",
   "execution_count": 599,
   "id": "9fc27de9",
   "metadata": {},
   "outputs": [],
   "source": [
    "from sklearn.preprocessing import LabelEncoder\n",
    "\n",
    "le = LabelEncoder()"
   ]
  },
  {
   "cell_type": "code",
   "execution_count": 600,
   "id": "8fec9886",
   "metadata": {},
   "outputs": [],
   "source": [
    "df['Gender'] = le.fit_transform(df['Gender'])"
   ]
  },
  {
   "cell_type": "code",
   "execution_count": 601,
   "id": "6d6945af",
   "metadata": {},
   "outputs": [],
   "source": [
    "df['Disease '] = le.fit_transform(df['Disease '])"
   ]
  },
  {
   "cell_type": "code",
   "execution_count": 602,
   "id": "4d993837",
   "metadata": {},
   "outputs": [
    {
     "name": "stdout",
     "output_type": "stream",
     "text": [
      "Category Mapping:\n",
      "Anemia: 0\n",
      "Asthma: 1\n",
      "Cardiovascular disease: 2\n",
      "Diabetics: 3\n",
      "Heart attack: 4\n",
      "Infection: 5\n",
      "Kidney Disease: 6\n",
      "Liver Disease: 7\n",
      "Pancreatitis: 8\n"
     ]
    }
   ],
   "source": [
    "category_mapping = dict(zip(le.classes_, le.transform(le.classes_)))\n",
    "print(\"Category Mapping:\")\n",
    "for category, encoded_value in category_mapping.items():\n",
    "    print(f\"{category}: {encoded_value}\")"
   ]
  },
  {
   "cell_type": "code",
   "execution_count": 603,
   "id": "15e6ac9c",
   "metadata": {},
   "outputs": [],
   "source": [
    "x = df.values[:,:13]"
   ]
  },
  {
   "cell_type": "code",
   "execution_count": 604,
   "id": "98e1f57f",
   "metadata": {},
   "outputs": [],
   "source": [
    "y = df.values[:,13]"
   ]
  },
  {
   "cell_type": "code",
   "execution_count": 605,
   "id": "7b32f4a9",
   "metadata": {},
   "outputs": [],
   "source": [
    "from sklearn.model_selection import train_test_split\n",
    "\n",
    "X_train, X_test, y_train, y_test = train_test_split(x, y, test_size = 0.2)\n"
   ]
  },
  {
   "cell_type": "code",
   "execution_count": 606,
   "id": "380560d8",
   "metadata": {},
   "outputs": [
    {
     "name": "stdout",
     "output_type": "stream",
     "text": [
      "Total length of the dataset:  12009\n",
      "Total length of training data:  9607\n",
      "Total length of testing data:  2402\n"
     ]
    }
   ],
   "source": [
    "print(\"Total length of the dataset: \",len(df))\n",
    "print(\"Total length of training data: \",len(X_train))\n",
    "print(\"Total length of testing data: \",len(X_test))"
   ]
  },
  {
   "cell_type": "code",
   "execution_count": 607,
   "id": "3ed8fd50",
   "metadata": {},
   "outputs": [],
   "source": [
    "from sklearn.ensemble import RandomForestClassifier\n",
    "\n",
    "rf = RandomForestClassifier(random_state=42)\n",
    "\n",
    "rf.fit(X_train, y_train)\n",
    "\n",
    "pred= rf.predict(X_test)"
   ]
  },
  {
   "cell_type": "code",
   "execution_count": 608,
   "id": "b3ca817c",
   "metadata": {},
   "outputs": [],
   "source": [
    "from sklearn.metrics import accuracy_score, precision_score, recall_score, confusion_matrix, f1_score"
   ]
  },
  {
   "cell_type": "code",
   "execution_count": 609,
   "id": "2581fc69",
   "metadata": {},
   "outputs": [
    {
     "name": "stdout",
     "output_type": "stream",
     "text": [
      "Accuracy for Random Forest:  76.93588676103246\n"
     ]
    }
   ],
   "source": [
    "print(\"Accuracy for Random Forest: \", accuracy_score(y_test, pred)*100)"
   ]
  },
  {
   "cell_type": "code",
   "execution_count": 610,
   "id": "d79f18c7",
   "metadata": {},
   "outputs": [],
   "source": [
    "from xgboost import XGBClassifier\n",
    "\n",
    "xgb = XGBClassifier(random_state=42)\n",
    "\n",
    "xgb.fit(X_train, y_train)\n",
    "\n",
    "pred = xgb.predict(X_test)"
   ]
  },
  {
   "cell_type": "code",
   "execution_count": 611,
   "id": "fdcb4fba",
   "metadata": {},
   "outputs": [
    {
     "name": "stdout",
     "output_type": "stream",
     "text": [
      "Accuracy for XGB Classifier:  94.12989175686928\n"
     ]
    }
   ],
   "source": [
    "print(\"Accuracy for XGB Classifier: \", accuracy_score(y_test, pred)*100)"
   ]
  },
  {
   "cell_type": "code",
   "execution_count": 612,
   "id": "00ffbe61",
   "metadata": {},
   "outputs": [
    {
     "name": "stdout",
     "output_type": "stream",
     "text": [
      "[LightGBM] [Info] Auto-choosing col-wise multi-threading, the overhead of testing was 0.001401 seconds.\n",
      "You can set `force_col_wise=true` to remove the overhead.\n",
      "[LightGBM] [Info] Total Bins 1173\n",
      "[LightGBM] [Info] Number of data points in the train set: 9607, number of used features: 13\n",
      "[LightGBM] [Info] Start training from score -1.381621\n",
      "[LightGBM] [Info] Start training from score -2.535614\n",
      "[LightGBM] [Info] Start training from score -2.863972\n",
      "[LightGBM] [Info] Start training from score -2.279638\n",
      "[LightGBM] [Info] Start training from score -2.038549\n",
      "[LightGBM] [Info] Start training from score -2.320121\n",
      "[LightGBM] [Info] Start training from score -2.208951\n",
      "[LightGBM] [Info] Start training from score -2.344787\n",
      "[LightGBM] [Info] Start training from score -2.575834\n"
     ]
    }
   ],
   "source": [
    "from lightgbm import LGBMClassifier\n",
    "\n",
    "lgbm = LGBMClassifier(random_state = 42)\n",
    "\n",
    "lgbm.fit(X_train, y_train)\n",
    "\n",
    "pred = lgbm.predict(X_test)"
   ]
  },
  {
   "cell_type": "code",
   "execution_count": 613,
   "id": "ccfecc7d",
   "metadata": {},
   "outputs": [
    {
     "name": "stdout",
     "output_type": "stream",
     "text": [
      "Accuracy for LGBM Classifier:  93.83846794338052\n"
     ]
    }
   ],
   "source": [
    "print(\"Accuracy for LGBM Classifier: \", accuracy_score(y_test, pred)*100)"
   ]
  },
  {
   "cell_type": "code",
   "execution_count": 614,
   "id": "5fa66933",
   "metadata": {},
   "outputs": [],
   "source": [
    "from sklearn.ensemble import VotingClassifier\n",
    "\n",
    "rf_model = RandomForestClassifier(random_state=42)\n",
    "xgb_model = XGBClassifier(random_state=42)\n",
    "lgbm_model = LGBMClassifier(random_state=42)\n",
    "voting_classifier = VotingClassifier(\n",
    "    estimators=[\n",
    "        ('random_forest', rf_model),\n",
    "        ('xgboost', xgb_model),\n",
    "        ('lightgbm', lgbm_model)\n",
    "    ],\n",
    "    voting='soft'\n",
    ")"
   ]
  },
  {
   "cell_type": "code",
   "execution_count": 615,
   "id": "86b72aca",
   "metadata": {},
   "outputs": [
    {
     "name": "stdout",
     "output_type": "stream",
     "text": [
      "[LightGBM] [Info] Auto-choosing col-wise multi-threading, the overhead of testing was 0.001464 seconds.\n",
      "You can set `force_col_wise=true` to remove the overhead.\n",
      "[LightGBM] [Info] Total Bins 1173\n",
      "[LightGBM] [Info] Number of data points in the train set: 9607, number of used features: 13\n",
      "[LightGBM] [Info] Start training from score -1.381621\n",
      "[LightGBM] [Info] Start training from score -2.535614\n",
      "[LightGBM] [Info] Start training from score -2.863972\n",
      "[LightGBM] [Info] Start training from score -2.279638\n",
      "[LightGBM] [Info] Start training from score -2.038549\n",
      "[LightGBM] [Info] Start training from score -2.320121\n",
      "[LightGBM] [Info] Start training from score -2.208951\n",
      "[LightGBM] [Info] Start training from score -2.344787\n",
      "[LightGBM] [Info] Start training from score -2.575834\n",
      "Ensemble Model Accuracy: 93.96336386344713\n"
     ]
    }
   ],
   "source": [
    "voting_classifier.fit(X_train, y_train)\n",
    "\n",
    "predictions = voting_classifier.predict(X_test)\n",
    "\n",
    "accuracy = accuracy_score(y_test, predictions)*100\n",
    "print(f\"Ensemble Model Accuracy: {accuracy}\")"
   ]
  },
  {
   "cell_type": "code",
   "execution_count": 616,
   "id": "85aba31c",
   "metadata": {},
   "outputs": [],
   "source": [
    "import pickle\n",
    "\n",
    "with open('model.pkl', 'wb') as files:\n",
    "    pickle.dump(voting_classifier, files)"
   ]
  },
  {
   "cell_type": "code",
   "execution_count": 617,
   "id": "e8916de6",
   "metadata": {},
   "outputs": [
    {
     "name": "stdout",
     "output_type": "stream",
     "text": [
      "1.0.2\n"
     ]
    }
   ],
   "source": [
    "import sklearn\n",
    "\n",
    "print(sklearn.__version__)"
   ]
  },
  {
   "cell_type": "code",
   "execution_count": 618,
   "id": "8caa0ec4",
   "metadata": {},
   "outputs": [],
   "source": [
    "output_file = 'model.pkl'\n",
    "with open(output_file, 'wb') as file:\n",
    "    pickle.dump(rf, file)"
   ]
  },
  {
   "cell_type": "code",
   "execution_count": 619,
   "id": "c0b17af0",
   "metadata": {},
   "outputs": [
    {
     "name": "stdout",
     "output_type": "stream",
     "text": [
      "[0.]\n"
     ]
    }
   ],
   "source": [
    "inp = np.array([0, 59, 6, 1.20, 6220, 26, 22, 227, 4.75, 0.90, 96, 97, 0.02])\n",
    "inp1 = inp.reshape(1,-1)\n",
    "pred = voting_classifier.predict(inp1)\n",
    "print(pred)"
   ]
  },
  {
   "cell_type": "code",
   "execution_count": 620,
   "id": "82d1b666",
   "metadata": {},
   "outputs": [
    {
     "name": "stdout",
     "output_type": "stream",
     "text": [
      "93.96336386344713\n"
     ]
    }
   ],
   "source": [
    "vc_acc =  accuracy_score(predictions, y_test)*100\n",
    "print(vc_acc)"
   ]
  },
  {
   "cell_type": "code",
   "execution_count": 621,
   "id": "89486085",
   "metadata": {},
   "outputs": [
    {
     "name": "stdout",
     "output_type": "stream",
     "text": [
      "93.2864997605211\n"
     ]
    }
   ],
   "source": [
    "vc_prec = precision_score(predictions, y_test, average='macro') *100\n",
    "print(vc_prec)"
   ]
  },
  {
   "cell_type": "code",
   "execution_count": 622,
   "id": "da730610",
   "metadata": {},
   "outputs": [
    {
     "name": "stdout",
     "output_type": "stream",
     "text": [
      "94.0129744917457\n"
     ]
    }
   ],
   "source": [
    "vc_recall = recall_score(predictions, y_test, average='macro')*100\n",
    "print(vc_recall)"
   ]
  },
  {
   "cell_type": "code",
   "execution_count": 623,
   "id": "d01b5a9e",
   "metadata": {},
   "outputs": [
    {
     "name": "stdout",
     "output_type": "stream",
     "text": [
      "93.6327302260775\n"
     ]
    }
   ],
   "source": [
    "vc_f1 = f1_score(predictions, y_test, average='macro')*100\n",
    "print(vc_f1)"
   ]
  },
  {
   "cell_type": "code",
   "execution_count": 624,
   "id": "d9c3f273",
   "metadata": {},
   "outputs": [],
   "source": [
    "metrics = {\n",
    "    'Accuracy': vc_acc,\n",
    "    'Precision': vc_prec,\n",
    "    'Recall': vc_recall,\n",
    "    'F1 Score': vc_f1,\n",
    "}"
   ]
  },
  {
   "cell_type": "code",
   "execution_count": 625,
   "id": "3df34c4c",
   "metadata": {},
   "outputs": [
    {
     "data": {
      "image/png": "[encoded data removed]",
      "text/plain": [
       "<Figure size 720x432 with 1 Axes>"
      ]
     },
     "metadata": {
      "needs_background": "light"
     },
     "output_type": "display_data"
    }
   ],
   "source": [
    "metrics_df = pd.DataFrame(list(metrics.items()), columns=['Metric', 'Value'])\n",
    "\n",
    "# Create a bar chart using Seaborn\n",
    "plt.figure(figsize=(10, 6))\n",
    "sns.barplot(x='Metric', y='Value', data=metrics_df, palette='viridis')\n",
    "plt.title('Model Evaluation Metrics')\n",
    "plt.ylim(1, 100)  # Set the y-axis limit to match the range of metric values (0 to 1 for percentages)\n",
    "plt.show()"
   ]
  },
  {
   "cell_type": "code",
   "execution_count": null,
   "id": "bdd724f3",
   "metadata": {},
   "outputs": [],
   "source": []
  },
  {
   "cell_type": "code",
   "execution_count": null,
   "id": "cf544f0f",
   "metadata": {},
   "outputs": [],
   "source": []
  }
 ],
 "metadata": {
  "kernelspec": {
   "display_name": "Python 3 (ipykernel)",
   "language": "python",
   "name": "python3"
  },
  "language_info": {
   "codemirror_mode": {
    "name": "ipython",
    "version": 3
   },
   "file_extension": ".py",
   "mimetype": "text/x-python",
   "name": "python",
   "nbconvert_exporter": "python",
   "pygments_lexer": "ipython3",
   "version": "3.9.12"
  }
 },
 "nbformat": 4,
 "nbformat_minor": 5
}
